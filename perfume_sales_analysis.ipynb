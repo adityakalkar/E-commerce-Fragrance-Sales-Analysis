{
 "cells": [
  {
   "cell_type": "code",
   "execution_count": 10,
   "id": "b2a5598b",
   "metadata": {},
   "outputs": [],
   "source": [
    "import sqlite3\n",
    "import pandas as pd\n",
    "import matplotlib.pyplot as plt\n",
    "import seaborn as sns"
   ]
  },
  {
   "cell_type": "code",
   "execution_count": 11,
   "id": "23bb0ad1",
   "metadata": {},
   "outputs": [],
   "source": [
    "df = pd.read_csv('ebay_mens_perfume.csv')"
   ]
  },
  {
   "cell_type": "code",
   "execution_count": 12,
   "id": "14c39eb5",
   "metadata": {},
   "outputs": [
    {
     "data": {
      "text/html": [
       "<div>\n",
       "<style scoped>\n",
       "    .dataframe tbody tr th:only-of-type {\n",
       "        vertical-align: middle;\n",
       "    }\n",
       "\n",
       "    .dataframe tbody tr th {\n",
       "        vertical-align: top;\n",
       "    }\n",
       "\n",
       "    .dataframe thead th {\n",
       "        text-align: right;\n",
       "    }\n",
       "</style>\n",
       "<table border=\"1\" class=\"dataframe\">\n",
       "  <thead>\n",
       "    <tr style=\"text-align: right;\">\n",
       "      <th></th>\n",
       "      <th>brand</th>\n",
       "      <th>title</th>\n",
       "      <th>type</th>\n",
       "      <th>price</th>\n",
       "      <th>priceWithCurrency</th>\n",
       "      <th>available</th>\n",
       "      <th>availableText</th>\n",
       "      <th>sold</th>\n",
       "      <th>lastUpdated</th>\n",
       "      <th>itemLocation</th>\n",
       "    </tr>\n",
       "  </thead>\n",
       "  <tbody>\n",
       "    <tr>\n",
       "      <th>0</th>\n",
       "      <td>Dior</td>\n",
       "      <td>Christian Dior Sauvage Men's EDP 3.4 oz Fragra...</td>\n",
       "      <td>Eau de Parfum</td>\n",
       "      <td>84.99</td>\n",
       "      <td>US $84.99/ea</td>\n",
       "      <td>10.0</td>\n",
       "      <td>More than 10 available / 116 sold</td>\n",
       "      <td>116.0</td>\n",
       "      <td>May 24, 2024 10:03:04 PDT</td>\n",
       "      <td>Allen Park, Michigan, United States</td>\n",
       "    </tr>\n",
       "    <tr>\n",
       "      <th>1</th>\n",
       "      <td>AS SHOW</td>\n",
       "      <td>A-v-entus Eau de Parfum 3.3 oz 100ML Millesime...</td>\n",
       "      <td>Eau de Parfum</td>\n",
       "      <td>109.99</td>\n",
       "      <td>US $109.99</td>\n",
       "      <td>8.0</td>\n",
       "      <td>8 available / 48 sold</td>\n",
       "      <td>48.0</td>\n",
       "      <td>May 23, 2024 23:07:49 PDT</td>\n",
       "      <td>Atlanta, Georgia, Canada</td>\n",
       "    </tr>\n",
       "    <tr>\n",
       "      <th>2</th>\n",
       "      <td>Unbranded</td>\n",
       "      <td>HOGO BOSS cologne For Men 3.4 oz</td>\n",
       "      <td>Eau de Toilette</td>\n",
       "      <td>100.00</td>\n",
       "      <td>US $100.00</td>\n",
       "      <td>10.0</td>\n",
       "      <td>More than 10 available / 27 sold</td>\n",
       "      <td>27.0</td>\n",
       "      <td>May 22, 2024 21:55:43 PDT</td>\n",
       "      <td>Dearborn, Michigan, United States</td>\n",
       "    </tr>\n",
       "    <tr>\n",
       "      <th>3</th>\n",
       "      <td>Giorgio Armani</td>\n",
       "      <td>Acqua Di Gio by Giorgio Armani 6.7 Fl oz Eau D...</td>\n",
       "      <td>Eau de Toilette</td>\n",
       "      <td>44.99</td>\n",
       "      <td>US $44.99/ea</td>\n",
       "      <td>2.0</td>\n",
       "      <td>2 available / 159 sold</td>\n",
       "      <td>159.0</td>\n",
       "      <td>May 24, 2024 03:30:43 PDT</td>\n",
       "      <td>Reinholds, Pennsylvania, United States</td>\n",
       "    </tr>\n",
       "    <tr>\n",
       "      <th>4</th>\n",
       "      <td>Lattafa</td>\n",
       "      <td>Lattafa Men's Hayaati Al Maleky EDP Spray 3.4 ...</td>\n",
       "      <td>Fragrances</td>\n",
       "      <td>16.91</td>\n",
       "      <td>US $16.91</td>\n",
       "      <td>NaN</td>\n",
       "      <td>Limited quantity available / 156 sold</td>\n",
       "      <td>156.0</td>\n",
       "      <td>May 24, 2024 07:56:25 PDT</td>\n",
       "      <td>Brooklyn, New York, United States</td>\n",
       "    </tr>\n",
       "  </tbody>\n",
       "</table>\n",
       "</div>"
      ],
      "text/plain": [
       "            brand                                              title  \\\n",
       "0            Dior  Christian Dior Sauvage Men's EDP 3.4 oz Fragra...   \n",
       "1         AS SHOW  A-v-entus Eau de Parfum 3.3 oz 100ML Millesime...   \n",
       "2       Unbranded                   HOGO BOSS cologne For Men 3.4 oz   \n",
       "3  Giorgio Armani  Acqua Di Gio by Giorgio Armani 6.7 Fl oz Eau D...   \n",
       "4         Lattafa  Lattafa Men's Hayaati Al Maleky EDP Spray 3.4 ...   \n",
       "\n",
       "              type   price priceWithCurrency  available  \\\n",
       "0    Eau de Parfum   84.99      US $84.99/ea       10.0   \n",
       "1    Eau de Parfum  109.99        US $109.99        8.0   \n",
       "2  Eau de Toilette  100.00        US $100.00       10.0   \n",
       "3  Eau de Toilette   44.99      US $44.99/ea        2.0   \n",
       "4       Fragrances   16.91         US $16.91        NaN   \n",
       "\n",
       "                           availableText   sold                lastUpdated  \\\n",
       "0      More than 10 available / 116 sold  116.0  May 24, 2024 10:03:04 PDT   \n",
       "1                  8 available / 48 sold   48.0  May 23, 2024 23:07:49 PDT   \n",
       "2       More than 10 available / 27 sold   27.0  May 22, 2024 21:55:43 PDT   \n",
       "3                 2 available / 159 sold  159.0  May 24, 2024 03:30:43 PDT   \n",
       "4  Limited quantity available / 156 sold  156.0  May 24, 2024 07:56:25 PDT   \n",
       "\n",
       "                             itemLocation  \n",
       "0     Allen Park, Michigan, United States  \n",
       "1                Atlanta, Georgia, Canada  \n",
       "2       Dearborn, Michigan, United States  \n",
       "3  Reinholds, Pennsylvania, United States  \n",
       "4       Brooklyn, New York, United States  "
      ]
     },
     "execution_count": 12,
     "metadata": {},
     "output_type": "execute_result"
    }
   ],
   "source": [
    "df.head()"
   ]
  },
  {
   "cell_type": "code",
   "execution_count": 13,
   "id": "126fc3e8",
   "metadata": {},
   "outputs": [
    {
     "name": "stdout",
     "output_type": "stream",
     "text": [
      "brand                  1\n",
      "title                  0\n",
      "type                   3\n",
      "price                  0\n",
      "priceWithCurrency      0\n",
      "available            111\n",
      "availableText          3\n",
      "sold                   6\n",
      "lastUpdated           53\n",
      "itemLocation           0\n",
      "dtype: int64\n"
     ]
    }
   ],
   "source": [
    "print(df.isnull().sum())\n",
    "\n",
    "# Data Cleaning & Imputation\n",
    "# For 'brand', impute missing values with the most frequent value\n",
    "df['brand'].fillna(df['brand'].mode()[0], inplace=True)\n",
    "\n",
    "# For 'type', impute missing values with the most frequent value (mode)\n",
    "df['type'].fillna(df['type'].mode()[0], inplace=True)\n",
    "\n",
    "# For 'available', use the median to impute missing values\n",
    "df['available'].fillna(df['available'].median(), inplace=True)\n",
    "\n",
    "# For 'sold', use the median to impute missing values\n",
    "df['sold'].fillna(df['sold'].median(), inplace=True)\n",
    "\n",
    "# Drop rows with missing 'lastUpdated'\n",
    "df.dropna(subset=['lastUpdated'], inplace=True)\n",
    "\n"
   ]
  },
  {
   "cell_type": "code",
   "execution_count": 14,
   "id": "30a680fc",
   "metadata": {},
   "outputs": [
    {
     "name": "stdout",
     "output_type": "stream",
     "text": [
      "brand                0\n",
      "title                0\n",
      "type                 0\n",
      "price                0\n",
      "priceWithCurrency    0\n",
      "available            0\n",
      "availableText        0\n",
      "sold                 0\n",
      "lastUpdated          0\n",
      "itemLocation         0\n",
      "dtype: int64\n"
     ]
    }
   ],
   "source": [
    "# Verify that there are no missing values left\n",
    "print(df.isnull().sum())"
   ]
  },
  {
   "cell_type": "code",
   "execution_count": 15,
   "id": "c1e7d6f8",
   "metadata": {},
   "outputs": [
    {
     "name": "stdout",
     "output_type": "stream",
     "text": [
      "('Dior', \"Christian Dior Sauvage Men's EDP 3.4 oz Fragrance Spray\", 'Eau de Parfum', 84.99, 'US $84.99/ea', 10.0, 'More than 10 available / 116 sold', 116.0, 'May 24, 2024 10:03:04 PDT', 'Allen Park, Michigan, United States')\n",
      " \n",
      "('AS SHOW', 'A-v-entus Eau de Parfum 3.3 oz 100ML Millesime EDP Col-ogne for Men New In Box', 'Eau de Parfum', 109.99, 'US $109.99', 8.0, '8 available / 48 sold', 48.0, 'May 23, 2024 23:07:49 PDT', 'Atlanta, Georgia, Canada')\n",
      " \n",
      "('Unbranded', 'HOGO BOSS cologne For Men 3.4 oz', 'Eau de Toilette', 100.0, 'US $100.00', 10.0, 'More than 10 available / 27 sold', 27.0, 'May 22, 2024 21:55:43 PDT', 'Dearborn, Michigan, United States')\n",
      " \n"
     ]
    }
   ],
   "source": [
    "conn = sqlite3.connect('perfume_data.db')\n",
    "\n",
    "# Upload the DataFrame to SQLite\n",
    "df.to_sql('perfume_data', conn, if_exists='replace', index=False)\n",
    "\n",
    "# Verify data upload by querying the first few rows\n",
    "cursor = conn.cursor()\n",
    "cursor.execute('SELECT * FROM perfume_data LIMIT 3')\n",
    "rows = cursor.fetchall()\n",
    "\n",
    "# Display the first 3 rows to ensure data was uploaded\n",
    "for row in rows:\n",
    "    print(row)\n",
    "    print(\" \")"
   ]
  },
  {
   "cell_type": "code",
   "execution_count": 16,
   "id": "0e448cda",
   "metadata": {},
   "outputs": [
    {
     "name": "stdout",
     "output_type": "stream",
     "text": [
      "     price  total_sold\n",
      "0    23.89     54066.0\n",
      "1    25.23     40130.0\n",
      "2    39.77     31718.0\n",
      "3    46.33     30655.0\n",
      "4    23.56     24048.0\n",
      "..     ...         ...\n",
      "568  91.00         1.0\n",
      "569  74.59         1.0\n",
      "570  55.00         1.0\n",
      "571  45.35         1.0\n",
      "572  15.39         1.0\n",
      "\n",
      "[573 rows x 2 columns]\n"
     ]
    }
   ],
   "source": [
    "# Query to find the price range with the maximum sales\n",
    "query = '''\n",
    "SELECT price, SUM(sold) AS total_sold\n",
    "FROM perfume_data\n",
    "GROUP BY price\n",
    "ORDER BY total_sold DESC\n",
    "'''\n",
    "result = pd.read_sql_query(query, conn)\n",
    "print(result)"
   ]
  },
  {
   "cell_type": "code",
   "execution_count": 21,
   "id": "4cd68e73",
   "metadata": {},
   "outputs": [
    {
     "name": "stdout",
     "output_type": "stream",
     "text": [
      "  price_bin      sold\n",
      "0      0-20  125336.0\n",
      "1     20-40  440880.0\n",
      "2     40-60  143742.0\n",
      "3     60-80   30786.0\n",
      "4    80-100   14240.0\n",
      "5   100-200    5782.0\n",
      "6   200-500     541.0\n",
      "7      500+       0.0\n"
     ]
    }
   ],
   "source": [
    "# Create discrete price bins for analysis by categorizing prices into specific ranges\n",
    "price_bins = pd.cut(df['price'], bins=[0, 20, 40, 60, 80, 100, 200, 500, 10000], labels=['0-20', '20-40', '40-60', '60-80', '80-100', '100-200', '200-500', '500+'])\n",
    "\n",
    "# Add the bins to the data\n",
    "df['price_bin'] = price_bins\n",
    "\n",
    "# Analyze total sales in each price bin\n",
    "sales_by_bin = df.groupby('price_bin')['sold'].sum().reset_index()\n",
    "\n",
    "# Display the sales by price bin\n",
    "print(sales_by_bin)\n"
   ]
  },
  {
   "cell_type": "code",
   "execution_count": 22,
   "id": "4b9f04ff",
   "metadata": {},
   "outputs": [
    {
     "data": {
      "image/png": "[encoded data removed]",
      "text/plain": [
       "<Figure size 640x480 with 1 Axes>"
      ]
     },
     "metadata": {},
     "output_type": "display_data"
    }
   ],
   "source": [
    "sales_by_bin.plot(kind='bar', x='price_bin', y='sold', legend=False)\n",
    "plt.title('Total Units Sold by Price Range')\n",
    "plt.ylabel('Units Sold')\n",
    "plt.xlabel('Price Range')\n",
    "plt.xticks(rotation=0)\n",
    "plt.show()\n"
   ]
  },
  {
   "cell_type": "code",
   "execution_count": 24,
   "id": "61cf6cf4",
   "metadata": {},
   "outputs": [
    {
     "name": "stdout",
     "output_type": "stream",
     "text": [
      "              price  available      sold\n",
      "price      1.000000  -0.100248 -0.088545\n",
      "available -0.100248   1.000000  0.102191\n",
      "sold      -0.088545   0.102191  1.000000\n"
     ]
    },
    {
     "data": {
      "image/png": "[encoded data removed]",
      "text/plain": [
       "<Figure size 640x480 with 2 Axes>"
      ]
     },
     "metadata": {},
     "output_type": "display_data"
    }
   ],
   "source": [
    "# Correlation between price, available, and sold\n",
    "corr_matrix = df[['price', 'available', 'sold']].corr()\n",
    "print(corr_matrix)\n",
    "\n",
    "# Heatmap for correlation matrix\n",
    "sns.heatmap(corr_matrix, annot=True, cmap='coolwarm')\n",
    "plt.title('Correlation Matrix of Price, Availability, and Sales')\n",
    "plt.show()"
   ]
  },
  {
   "cell_type": "code",
   "execution_count": 27,
   "id": "93268615",
   "metadata": {},
   "outputs": [
    {
     "name": "stdout",
     "output_type": "stream",
     "text": [
      "Correlation: -0.08854510263430072, P-value: 0.006399270325415289\n",
      "Reject the null hypothesis: Price significantly affects sales.\n"
     ]
    }
   ],
   "source": [
    "# Hypothesis Test: Does price significantly affect sales?\n",
    "import scipy.stats as stats\n",
    "correlation, p_value = stats.pearsonr(df['price'], df['sold'])\n",
    "print(f'Correlation: {correlation}, P-value: {p_value}')\n",
    "\n",
    "if p_value < 0.05:\n",
    "    print(\"Reject the null hypothesis: Price significantly affects sales.\")\n",
    "else:\n",
    "    print(\"Fail to reject the null hypothesis: Price does not significantly affect sales.\")"
   ]
  },
  {
   "cell_type": "code",
   "execution_count": 23,
   "id": "fb70d444",
   "metadata": {},
   "outputs": [
    {
     "name": "stdout",
     "output_type": "stream",
     "text": [
      "          brand  total_sold\n",
      "0  Calvin Klein     97564.0\n",
      "1       Versace     96519.0\n",
      "2      Davidoff     54944.0\n",
      "3        Azzaro     38301.0\n",
      "4         Armaf     24276.0\n"
     ]
    }
   ],
   "source": [
    "# Additional Analysis: Total Sales by Brand\n",
    "\n",
    "# Query for total sales by brand\n",
    "query_brand_sales = \n",
    "'''\n",
    "SELECT brand, SUM(sold) AS total_sold\n",
    "FROM perfume_data\n",
    "GROUP BY brand\n",
    "ORDER BY total_sold DESC\n",
    "'''\n",
    "brand_sales = pd.read_sql_query(query_brand_sales, conn)\n",
    "print(brand_sales.head())"
   ]
  }
 ],
 "metadata": {
  "kernelspec": {
   "display_name": "Python 3 (ipykernel)",
   "language": "python",
   "name": "python3"
  },
  "language_info": {
   "codemirror_mode": {
    "name": "ipython",
    "version": 3
   },
   "file_extension": ".py",
   "mimetype": "text/x-python",
   "name": "python",
   "nbconvert_exporter": "python",
   "pygments_lexer": "ipython3",
   "version": "3.9.19"
  }
 },
 "nbformat": 4,
 "nbformat_minor": 5
}
